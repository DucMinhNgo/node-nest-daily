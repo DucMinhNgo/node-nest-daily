{
 "cells": [
  {
   "cell_type": "markdown",
   "id": "772057fb",
   "metadata": {},
   "source": [
    "https://www.slingacademy.com/article/how-to-add-stripe-payment-to-nestjs/"
   ]
  }
 ],
 "metadata": {
  "language_info": {
   "name": "python"
  }
 },
 "nbformat": 4,
 "nbformat_minor": 5
}
